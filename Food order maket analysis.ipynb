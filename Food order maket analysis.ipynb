{
 "cells": [
  {
   "cell_type": "markdown",
   "metadata": {},
   "source": [
    "# -----------------------------------------DATASET-FOOD ORDER-------------------------------------"
   ]
  },
  {
   "attachments": {
    "download%20%281%29.jpg": {
     "image/jpeg": "[encoded data removed]"
    }
   },
   "cell_type": "markdown",
   "metadata": {},
   "source": [
    "![download%20%281%29.jpg](attachment:download%20%281%29.jpg)"
   ]
  },
  {
   "cell_type": "markdown",
   "metadata": {},
   "source": [
    "# Dataset Description"
   ]
  },
  {
   "cell_type": "markdown",
   "metadata": {},
   "source": [
    "The dataset contains : <br>\n",
    "1.Order ID <br>\n",
    "2.Order Date <br>\n",
    "3.Food item name <br>\n",
    "4.Quantity <br>\n",
    "5.Product Price <br>\n",
    "6.Total Products <br>"
   ]
  },
  {
   "cell_type": "markdown",
   "metadata": {},
   "source": [
    "# Purpose of choosing this dataset for Project"
   ]
  },
  {
   "cell_type": "markdown",
   "metadata": {},
   "source": [
    "The goal of association rule generation is to find interesting patterns and trends in transaction databases. <br>\n",
    "Hence,I can use this food dataset of a particular restaurant to find out the relations between food items that are bought together .<br>I will try to make association rules which can help to increase the revenue of the owner."
   ]
  },
  {
   "cell_type": "markdown",
   "metadata": {},
   "source": [
    "# Importing Libraries"
   ]
  },
  {
   "cell_type": "code",
   "execution_count": 1,
   "metadata": {},
   "outputs": [],
   "source": [
    "import numpy as np\n",
    "import matplotlib.pyplot as plt\n",
    "import pandas as pd\n",
    "import seaborn as sns"
   ]
  },
  {
   "cell_type": "markdown",
   "metadata": {},
   "source": [
    "# Loading Dataset"
   ]
  },
  {
   "cell_type": "code",
   "execution_count": 2,
   "metadata": {},
   "outputs": [],
   "source": [
    "df = pd.read_csv('Food order.csv')"
   ]
  },
  {
   "cell_type": "code",
   "execution_count": 3,
   "metadata": {},
   "outputs": [
    {
     "data": {
      "text/html": [
       "<div>\n",
       "<style scoped>\n",
       "    .dataframe tbody tr th:only-of-type {\n",
       "        vertical-align: middle;\n",
       "    }\n",
       "\n",
       "    .dataframe tbody tr th {\n",
       "        vertical-align: top;\n",
       "    }\n",
       "\n",
       "    .dataframe thead th {\n",
       "        text-align: right;\n",
       "    }\n",
       "</style>\n",
       "<table border=\"1\" class=\"dataframe\">\n",
       "  <thead>\n",
       "    <tr style=\"text-align: right;\">\n",
       "      <th></th>\n",
       "      <th>Order ID</th>\n",
       "      <th>Order Date</th>\n",
       "      <th>Item Name</th>\n",
       "      <th>Quantity</th>\n",
       "      <th>Product Price</th>\n",
       "      <th>Total products</th>\n",
       "    </tr>\n",
       "  </thead>\n",
       "  <tbody>\n",
       "    <tr>\n",
       "      <th>0</th>\n",
       "      <td>25583</td>\n",
       "      <td>03/08/2019 21:58</td>\n",
       "      <td>Tandoori Mixed Grill</td>\n",
       "      <td>1</td>\n",
       "      <td>11.95</td>\n",
       "      <td>12</td>\n",
       "    </tr>\n",
       "    <tr>\n",
       "      <th>1</th>\n",
       "      <td>25583</td>\n",
       "      <td>03/08/2019 21:58</td>\n",
       "      <td>Madras Sauce</td>\n",
       "      <td>1</td>\n",
       "      <td>3.95</td>\n",
       "      <td>12</td>\n",
       "    </tr>\n",
       "    <tr>\n",
       "      <th>2</th>\n",
       "      <td>25583</td>\n",
       "      <td>03/08/2019 21:58</td>\n",
       "      <td>Mushroom Rice</td>\n",
       "      <td>2</td>\n",
       "      <td>3.95</td>\n",
       "      <td>12</td>\n",
       "    </tr>\n",
       "    <tr>\n",
       "      <th>3</th>\n",
       "      <td>25583</td>\n",
       "      <td>03/08/2019 21:58</td>\n",
       "      <td>Garlic Naan</td>\n",
       "      <td>1</td>\n",
       "      <td>2.95</td>\n",
       "      <td>12</td>\n",
       "    </tr>\n",
       "    <tr>\n",
       "      <th>4</th>\n",
       "      <td>25583</td>\n",
       "      <td>03/08/2019 21:58</td>\n",
       "      <td>Paratha</td>\n",
       "      <td>1</td>\n",
       "      <td>2.95</td>\n",
       "      <td>12</td>\n",
       "    </tr>\n",
       "    <tr>\n",
       "      <th>...</th>\n",
       "      <td>...</td>\n",
       "      <td>...</td>\n",
       "      <td>...</td>\n",
       "      <td>...</td>\n",
       "      <td>...</td>\n",
       "      <td>...</td>\n",
       "    </tr>\n",
       "    <tr>\n",
       "      <th>119178</th>\n",
       "      <td>8144</td>\n",
       "      <td>13/02/2017 12:59</td>\n",
       "      <td>House Red wine 75cl</td>\n",
       "      <td>1</td>\n",
       "      <td>17.95</td>\n",
       "      <td>18</td>\n",
       "    </tr>\n",
       "    <tr>\n",
       "      <th>119179</th>\n",
       "      <td>7463</td>\n",
       "      <td>03/01/2017 19:13</td>\n",
       "      <td>House white wine 75cl</td>\n",
       "      <td>1</td>\n",
       "      <td>17.95</td>\n",
       "      <td>6</td>\n",
       "    </tr>\n",
       "    <tr>\n",
       "      <th>119180</th>\n",
       "      <td>6719</td>\n",
       "      <td>24/11/2016 18:35</td>\n",
       "      <td>House Red wine 75cl</td>\n",
       "      <td>1</td>\n",
       "      <td>17.95</td>\n",
       "      <td>6</td>\n",
       "    </tr>\n",
       "    <tr>\n",
       "      <th>119181</th>\n",
       "      <td>5251</td>\n",
       "      <td>21/08/2016 17:55</td>\n",
       "      <td>House white wine 75cl</td>\n",
       "      <td>1</td>\n",
       "      <td>17.95</td>\n",
       "      <td>9</td>\n",
       "    </tr>\n",
       "    <tr>\n",
       "      <th>119182</th>\n",
       "      <td>4698</td>\n",
       "      <td>10/06/2016 18:18</td>\n",
       "      <td>House white wine 75cl</td>\n",
       "      <td>1</td>\n",
       "      <td>17.95</td>\n",
       "      <td>1</td>\n",
       "    </tr>\n",
       "  </tbody>\n",
       "</table>\n",
       "<p>119183 rows × 6 columns</p>\n",
       "</div>"
      ],
      "text/plain": [
       "        Order ID        Order Date              Item Name  Quantity  \\\n",
       "0          25583  03/08/2019 21:58   Tandoori Mixed Grill         1   \n",
       "1          25583  03/08/2019 21:58           Madras Sauce         1   \n",
       "2          25583  03/08/2019 21:58          Mushroom Rice         2   \n",
       "3          25583  03/08/2019 21:58            Garlic Naan         1   \n",
       "4          25583  03/08/2019 21:58                Paratha         1   \n",
       "...          ...               ...                    ...       ...   \n",
       "119178      8144  13/02/2017 12:59    House Red wine 75cl         1   \n",
       "119179      7463  03/01/2017 19:13  House white wine 75cl         1   \n",
       "119180      6719  24/11/2016 18:35    House Red wine 75cl         1   \n",
       "119181      5251  21/08/2016 17:55  House white wine 75cl         1   \n",
       "119182      4698  10/06/2016 18:18  House white wine 75cl         1   \n",
       "\n",
       "        Product Price  Total products  \n",
       "0               11.95              12  \n",
       "1                3.95              12  \n",
       "2                3.95              12  \n",
       "3                2.95              12  \n",
       "4                2.95              12  \n",
       "...               ...             ...  \n",
       "119178          17.95              18  \n",
       "119179          17.95               6  \n",
       "119180          17.95               6  \n",
       "119181          17.95               9  \n",
       "119182          17.95               1  \n",
       "\n",
       "[119183 rows x 6 columns]"
      ]
     },
     "execution_count": 3,
     "metadata": {},
     "output_type": "execute_result"
    }
   ],
   "source": [
    "df"
   ]
  },
  {
   "cell_type": "markdown",
   "metadata": {},
   "source": [
    "# Data Preprocessing "
   ]
  },
  {
   "cell_type": "code",
   "execution_count": 4,
   "metadata": {},
   "outputs": [
    {
     "data": {
      "text/plain": [
       "(119183, 6)"
      ]
     },
     "execution_count": 4,
     "metadata": {},
     "output_type": "execute_result"
    }
   ],
   "source": [
    "df.shape"
   ]
  },
  {
   "cell_type": "code",
   "execution_count": 5,
   "metadata": {},
   "outputs": [
    {
     "name": "stdout",
     "output_type": "stream",
     "text": [
      "<class 'pandas.core.frame.DataFrame'>\n",
      "RangeIndex: 119183 entries, 0 to 119182\n",
      "Data columns (total 6 columns):\n",
      " #   Column          Non-Null Count   Dtype  \n",
      "---  ------          --------------   -----  \n",
      " 0   Order ID        119183 non-null  int64  \n",
      " 1   Order Date      119183 non-null  object \n",
      " 2   Item Name       119183 non-null  object \n",
      " 3   Quantity        119183 non-null  int64  \n",
      " 4   Product Price   119183 non-null  float64\n",
      " 5   Total products  119183 non-null  int64  \n",
      "dtypes: float64(1), int64(3), object(2)\n",
      "memory usage: 5.5+ MB\n"
     ]
    }
   ],
   "source": [
    "# check datatype\n",
    "df.info()"
   ]
  },
  {
   "cell_type": "code",
   "execution_count": 6,
   "metadata": {},
   "outputs": [
    {
     "data": {
      "text/html": [
       "<div>\n",
       "<style scoped>\n",
       "    .dataframe tbody tr th:only-of-type {\n",
       "        vertical-align: middle;\n",
       "    }\n",
       "\n",
       "    .dataframe tbody tr th {\n",
       "        vertical-align: top;\n",
       "    }\n",
       "\n",
       "    .dataframe thead th {\n",
       "        text-align: right;\n",
       "    }\n",
       "</style>\n",
       "<table border=\"1\" class=\"dataframe\">\n",
       "  <thead>\n",
       "    <tr style=\"text-align: right;\">\n",
       "      <th></th>\n",
       "      <th>Order ID</th>\n",
       "      <th>Quantity</th>\n",
       "      <th>Product Price</th>\n",
       "      <th>Total products</th>\n",
       "    </tr>\n",
       "  </thead>\n",
       "  <tbody>\n",
       "    <tr>\n",
       "      <th>count</th>\n",
       "      <td>119183.000000</td>\n",
       "      <td>119183.000000</td>\n",
       "      <td>119183.000000</td>\n",
       "      <td>119183.000000</td>\n",
       "    </tr>\n",
       "    <tr>\n",
       "      <th>mean</th>\n",
       "      <td>15185.997978</td>\n",
       "      <td>1.248869</td>\n",
       "      <td>5.108173</td>\n",
       "      <td>7.246428</td>\n",
       "    </tr>\n",
       "    <tr>\n",
       "      <th>std</th>\n",
       "      <td>6088.427753</td>\n",
       "      <td>0.702203</td>\n",
       "      <td>3.207705</td>\n",
       "      <td>2.946809</td>\n",
       "    </tr>\n",
       "    <tr>\n",
       "      <th>min</th>\n",
       "      <td>2096.000000</td>\n",
       "      <td>1.000000</td>\n",
       "      <td>0.500000</td>\n",
       "      <td>1.000000</td>\n",
       "    </tr>\n",
       "    <tr>\n",
       "      <th>25%</th>\n",
       "      <td>9908.000000</td>\n",
       "      <td>1.000000</td>\n",
       "      <td>2.950000</td>\n",
       "      <td>5.000000</td>\n",
       "    </tr>\n",
       "    <tr>\n",
       "      <th>50%</th>\n",
       "      <td>15191.000000</td>\n",
       "      <td>1.000000</td>\n",
       "      <td>3.950000</td>\n",
       "      <td>7.000000</td>\n",
       "    </tr>\n",
       "    <tr>\n",
       "      <th>75%</th>\n",
       "      <td>20517.000000</td>\n",
       "      <td>1.000000</td>\n",
       "      <td>8.950000</td>\n",
       "      <td>9.000000</td>\n",
       "    </tr>\n",
       "    <tr>\n",
       "      <th>max</th>\n",
       "      <td>25583.000000</td>\n",
       "      <td>20.000000</td>\n",
       "      <td>17.950000</td>\n",
       "      <td>29.000000</td>\n",
       "    </tr>\n",
       "  </tbody>\n",
       "</table>\n",
       "</div>"
      ],
      "text/plain": [
       "            Order ID       Quantity  Product Price  Total products\n",
       "count  119183.000000  119183.000000  119183.000000   119183.000000\n",
       "mean    15185.997978       1.248869       5.108173        7.246428\n",
       "std      6088.427753       0.702203       3.207705        2.946809\n",
       "min      2096.000000       1.000000       0.500000        1.000000\n",
       "25%      9908.000000       1.000000       2.950000        5.000000\n",
       "50%     15191.000000       1.000000       3.950000        7.000000\n",
       "75%     20517.000000       1.000000       8.950000        9.000000\n",
       "max     25583.000000      20.000000      17.950000       29.000000"
      ]
     },
     "execution_count": 6,
     "metadata": {},
     "output_type": "execute_result"
    }
   ],
   "source": [
    "#statistical summary\n",
    "df.describe()"
   ]
  },
  {
   "cell_type": "code",
   "execution_count": 7,
   "metadata": {},
   "outputs": [
    {
     "data": {
      "text/plain": [
       "Order ID          0\n",
       "Order Date        0\n",
       "Item Name         0\n",
       "Quantity          0\n",
       "Product Price     0\n",
       "Total products    0\n",
       "dtype: int64"
      ]
     },
     "execution_count": 7,
     "metadata": {},
     "output_type": "execute_result"
    }
   ],
   "source": [
    "#check null values\n",
    "df.isnull().sum()"
   ]
  },
  {
   "cell_type": "markdown",
   "metadata": {},
   "source": [
    "# Exploratory Data Analysis"
   ]
  },
  {
   "cell_type": "code",
   "execution_count": 8,
   "metadata": {},
   "outputs": [
    {
     "data": {
      "text/plain": [
       "<matplotlib.axes._subplots.AxesSubplot at 0x2095d48dd08>"
      ]
     },
     "execution_count": 8,
     "metadata": {},
     "output_type": "execute_result"
    },
    {
     "data": {
      "image/png": "[encoded data removed]",
      "text/plain": [
       "<Figure size 360x360 with 1 Axes>"
      ]
     },
     "metadata": {
      "needs_background": "light"
     },
     "output_type": "display_data"
    }
   ],
   "source": [
    "df['Product Price'].hist(figsize=(5,5),color=\"orange\")"
   ]
  },
  {
   "cell_type": "code",
   "execution_count": 9,
   "metadata": {},
   "outputs": [
    {
     "data": {
      "text/plain": [
       "<matplotlib.axes._subplots.AxesSubplot at 0x2095f503e88>"
      ]
     },
     "execution_count": 9,
     "metadata": {},
     "output_type": "execute_result"
    },
    {
     "data": {
      "image/png": "[encoded data removed]",
      "text/plain": [
       "<Figure size 360x360 with 1 Axes>"
      ]
     },
     "metadata": {
      "needs_background": "light"
     },
     "output_type": "display_data"
    }
   ],
   "source": [
    "df['Total products'].hist(figsize=(5,5),color=\"blue\")"
   ]
  },
  {
   "cell_type": "code",
   "execution_count": 10,
   "metadata": {},
   "outputs": [
    {
     "data": {
      "text/plain": [
       "array([2019, 2018, 2017, 2016, 2015], dtype=int64)"
      ]
     },
     "execution_count": 10,
     "metadata": {},
     "output_type": "execute_result"
    }
   ],
   "source": [
    "df['year'] = pd.DatetimeIndex(df['Order Date']).year\n",
    "df['year'].unique()"
   ]
  },
  {
   "cell_type": "code",
   "execution_count": 11,
   "metadata": {},
   "outputs": [
    {
     "data": {
      "text/plain": [
       "([<matplotlib.axis.XTick at 0x2095f59f948>,\n",
       "  <matplotlib.axis.XTick at 0x2095f5d7988>,\n",
       "  <matplotlib.axis.XTick at 0x2095f5d7548>,\n",
       "  <matplotlib.axis.XTick at 0x2095f61ab08>],\n",
       " <a list of 4 Text xticklabel objects>)"
      ]
     },
     "execution_count": 11,
     "metadata": {},
     "output_type": "execute_result"
    },
    {
     "data": {
      "image/png": "[encoded data removed]",
      "text/plain": [
       "<Figure size 360x360 with 1 Axes>"
      ]
     },
     "metadata": {
      "needs_background": "light"
     },
     "output_type": "display_data"
    }
   ],
   "source": [
    "df['year'].hist(figsize=(5,5),color=\"red\",range=[2016,2020],grid=False)\n",
    "plt.xticks(range(2016, 2020))"
   ]
  },
  {
   "cell_type": "markdown",
   "metadata": {},
   "source": [
    "# Taking a sample of data"
   ]
  },
  {
   "cell_type": "code",
   "execution_count": 12,
   "metadata": {},
   "outputs": [
    {
     "data": {
      "text/html": [
       "<div>\n",
       "<style scoped>\n",
       "    .dataframe tbody tr th:only-of-type {\n",
       "        vertical-align: middle;\n",
       "    }\n",
       "\n",
       "    .dataframe tbody tr th {\n",
       "        vertical-align: top;\n",
       "    }\n",
       "\n",
       "    .dataframe thead th {\n",
       "        text-align: right;\n",
       "    }\n",
       "</style>\n",
       "<table border=\"1\" class=\"dataframe\">\n",
       "  <thead>\n",
       "    <tr style=\"text-align: right;\">\n",
       "      <th></th>\n",
       "      <th>Order ID</th>\n",
       "      <th>Order Date</th>\n",
       "      <th>Item Name</th>\n",
       "      <th>Quantity</th>\n",
       "      <th>Product Price</th>\n",
       "      <th>Total products</th>\n",
       "      <th>year</th>\n",
       "    </tr>\n",
       "  </thead>\n",
       "  <tbody>\n",
       "    <tr>\n",
       "      <th>104921</th>\n",
       "      <td>9010</td>\n",
       "      <td>04/04/2017 19:49</td>\n",
       "      <td>Garlic Mirch Chicken</td>\n",
       "      <td>1</td>\n",
       "      <td>8.95</td>\n",
       "      <td>14</td>\n",
       "      <td>2017</td>\n",
       "    </tr>\n",
       "    <tr>\n",
       "      <th>74536</th>\n",
       "      <td>17632</td>\n",
       "      <td>20/07/2018 18:23</td>\n",
       "      <td>Bombay Aloo</td>\n",
       "      <td>1</td>\n",
       "      <td>5.95</td>\n",
       "      <td>7</td>\n",
       "      <td>2018</td>\n",
       "    </tr>\n",
       "    <tr>\n",
       "      <th>40394</th>\n",
       "      <td>11444</td>\n",
       "      <td>27/08/2017 19:21</td>\n",
       "      <td>Pilau Rice</td>\n",
       "      <td>1</td>\n",
       "      <td>2.95</td>\n",
       "      <td>7</td>\n",
       "      <td>2017</td>\n",
       "    </tr>\n",
       "    <tr>\n",
       "      <th>13333</th>\n",
       "      <td>16047</td>\n",
       "      <td>24/04/2018 17:53</td>\n",
       "      <td>Plain Papadum</td>\n",
       "      <td>6</td>\n",
       "      <td>0.80</td>\n",
       "      <td>11</td>\n",
       "      <td>2018</td>\n",
       "    </tr>\n",
       "    <tr>\n",
       "      <th>80919</th>\n",
       "      <td>7803</td>\n",
       "      <td>22/01/2017 17:43</td>\n",
       "      <td>Aloo Brinjal</td>\n",
       "      <td>1</td>\n",
       "      <td>5.95</td>\n",
       "      <td>9</td>\n",
       "      <td>2017</td>\n",
       "    </tr>\n",
       "    <tr>\n",
       "      <th>...</th>\n",
       "      <td>...</td>\n",
       "      <td>...</td>\n",
       "      <td>...</td>\n",
       "      <td>...</td>\n",
       "      <td>...</td>\n",
       "      <td>...</td>\n",
       "      <td>...</td>\n",
       "    </tr>\n",
       "    <tr>\n",
       "      <th>75628</th>\n",
       "      <td>16037</td>\n",
       "      <td>23/04/2018 17:54</td>\n",
       "      <td>Bombay Aloo</td>\n",
       "      <td>1</td>\n",
       "      <td>5.95</td>\n",
       "      <td>6</td>\n",
       "      <td>2018</td>\n",
       "    </tr>\n",
       "    <tr>\n",
       "      <th>48234</th>\n",
       "      <td>24789</td>\n",
       "      <td>26/06/2019 19:03</td>\n",
       "      <td>Mushroom Rice</td>\n",
       "      <td>1</td>\n",
       "      <td>3.95</td>\n",
       "      <td>13</td>\n",
       "      <td>2019</td>\n",
       "    </tr>\n",
       "    <tr>\n",
       "      <th>57699</th>\n",
       "      <td>12627</td>\n",
       "      <td>03/11/2017 17:25</td>\n",
       "      <td>Mini Bhaji</td>\n",
       "      <td>1</td>\n",
       "      <td>3.95</td>\n",
       "      <td>13</td>\n",
       "      <td>2017</td>\n",
       "    </tr>\n",
       "    <tr>\n",
       "      <th>19529</th>\n",
       "      <td>22908</td>\n",
       "      <td>30/03/2019 17:09</td>\n",
       "      <td>Naan</td>\n",
       "      <td>4</td>\n",
       "      <td>2.50</td>\n",
       "      <td>3</td>\n",
       "      <td>2019</td>\n",
       "    </tr>\n",
       "    <tr>\n",
       "      <th>65740</th>\n",
       "      <td>16305</td>\n",
       "      <td>06/05/2018 19:58</td>\n",
       "      <td>Masala Sauce</td>\n",
       "      <td>1</td>\n",
       "      <td>4.95</td>\n",
       "      <td>7</td>\n",
       "      <td>2018</td>\n",
       "    </tr>\n",
       "  </tbody>\n",
       "</table>\n",
       "<p>100000 rows × 7 columns</p>\n",
       "</div>"
      ],
      "text/plain": [
       "        Order ID        Order Date             Item Name  Quantity  \\\n",
       "104921      9010  04/04/2017 19:49  Garlic Mirch Chicken         1   \n",
       "74536      17632  20/07/2018 18:23           Bombay Aloo         1   \n",
       "40394      11444  27/08/2017 19:21            Pilau Rice         1   \n",
       "13333      16047  24/04/2018 17:53         Plain Papadum         6   \n",
       "80919       7803  22/01/2017 17:43          Aloo Brinjal         1   \n",
       "...          ...               ...                   ...       ...   \n",
       "75628      16037  23/04/2018 17:54           Bombay Aloo         1   \n",
       "48234      24789  26/06/2019 19:03         Mushroom Rice         1   \n",
       "57699      12627  03/11/2017 17:25            Mini Bhaji         1   \n",
       "19529      22908  30/03/2019 17:09                  Naan         4   \n",
       "65740      16305  06/05/2018 19:58          Masala Sauce         1   \n",
       "\n",
       "        Product Price  Total products  year  \n",
       "104921           8.95              14  2017  \n",
       "74536            5.95               7  2018  \n",
       "40394            2.95               7  2017  \n",
       "13333            0.80              11  2018  \n",
       "80919            5.95               9  2017  \n",
       "...               ...             ...   ...  \n",
       "75628            5.95               6  2018  \n",
       "48234            3.95              13  2019  \n",
       "57699            3.95              13  2017  \n",
       "19529            2.50               3  2019  \n",
       "65740            4.95               7  2018  \n",
       "\n",
       "[100000 rows x 7 columns]"
      ]
     },
     "execution_count": 12,
     "metadata": {},
     "output_type": "execute_result"
    }
   ],
   "source": [
    "df=df.sample(n=100000)\n",
    "df"
   ]
  },
  {
   "cell_type": "code",
   "execution_count": 13,
   "metadata": {},
   "outputs": [
    {
     "name": "stdout",
     "output_type": "stream",
     "text": [
      "One order per row with the quantity of each product\n"
     ]
    },
    {
     "data": {
      "text/html": [
       "<div>\n",
       "<style scoped>\n",
       "    .dataframe tbody tr th:only-of-type {\n",
       "        vertical-align: middle;\n",
       "    }\n",
       "\n",
       "    .dataframe tbody tr th {\n",
       "        vertical-align: top;\n",
       "    }\n",
       "\n",
       "    .dataframe thead th {\n",
       "        text-align: right;\n",
       "    }\n",
       "</style>\n",
       "<table border=\"1\" class=\"dataframe\">\n",
       "  <thead>\n",
       "    <tr style=\"text-align: right;\">\n",
       "      <th>Item Name</th>\n",
       "      <th>Achar Chicken</th>\n",
       "      <th>Achar Lamb</th>\n",
       "      <th>Aloo Brinjal</th>\n",
       "      <th>Aloo Chaat</th>\n",
       "      <th>Aloo Dupiaza</th>\n",
       "      <th>Aloo Gobi</th>\n",
       "      <th>Aloo Mithy</th>\n",
       "      <th>Aloo Peas</th>\n",
       "      <th>Bangon Hari Mirch</th>\n",
       "      <th>Bhindi Bhajee</th>\n",
       "      <th>...</th>\n",
       "      <th>Vindaloo - Chicken Tikka</th>\n",
       "      <th>Vindaloo - King Prawn</th>\n",
       "      <th>Vindaloo - Lamb</th>\n",
       "      <th>Vindaloo - Prawn</th>\n",
       "      <th>Vindaloo - chicken</th>\n",
       "      <th>Vindaloo - chicken-tikka</th>\n",
       "      <th>Vindaloo - king-prawn</th>\n",
       "      <th>Vindaloo - lamb</th>\n",
       "      <th>Vindaloo - prawn</th>\n",
       "      <th>Vindaloo Sauce</th>\n",
       "    </tr>\n",
       "    <tr>\n",
       "      <th>Order ID</th>\n",
       "      <th></th>\n",
       "      <th></th>\n",
       "      <th></th>\n",
       "      <th></th>\n",
       "      <th></th>\n",
       "      <th></th>\n",
       "      <th></th>\n",
       "      <th></th>\n",
       "      <th></th>\n",
       "      <th></th>\n",
       "      <th></th>\n",
       "      <th></th>\n",
       "      <th></th>\n",
       "      <th></th>\n",
       "      <th></th>\n",
       "      <th></th>\n",
       "      <th></th>\n",
       "      <th></th>\n",
       "      <th></th>\n",
       "      <th></th>\n",
       "      <th></th>\n",
       "    </tr>\n",
       "  </thead>\n",
       "  <tbody>\n",
       "    <tr>\n",
       "      <th>2096</th>\n",
       "      <td>0.0</td>\n",
       "      <td>0.0</td>\n",
       "      <td>0.0</td>\n",
       "      <td>0.0</td>\n",
       "      <td>0.0</td>\n",
       "      <td>1.0</td>\n",
       "      <td>0.0</td>\n",
       "      <td>0.0</td>\n",
       "      <td>0.0</td>\n",
       "      <td>0.0</td>\n",
       "      <td>...</td>\n",
       "      <td>0.0</td>\n",
       "      <td>0.0</td>\n",
       "      <td>0.0</td>\n",
       "      <td>0.0</td>\n",
       "      <td>0.0</td>\n",
       "      <td>0.0</td>\n",
       "      <td>0.0</td>\n",
       "      <td>0.0</td>\n",
       "      <td>0.0</td>\n",
       "      <td>0.0</td>\n",
       "    </tr>\n",
       "    <tr>\n",
       "      <th>4487</th>\n",
       "      <td>0.0</td>\n",
       "      <td>0.0</td>\n",
       "      <td>0.0</td>\n",
       "      <td>0.0</td>\n",
       "      <td>0.0</td>\n",
       "      <td>0.0</td>\n",
       "      <td>0.0</td>\n",
       "      <td>0.0</td>\n",
       "      <td>0.0</td>\n",
       "      <td>0.0</td>\n",
       "      <td>...</td>\n",
       "      <td>0.0</td>\n",
       "      <td>0.0</td>\n",
       "      <td>0.0</td>\n",
       "      <td>0.0</td>\n",
       "      <td>0.0</td>\n",
       "      <td>0.0</td>\n",
       "      <td>0.0</td>\n",
       "      <td>0.0</td>\n",
       "      <td>0.0</td>\n",
       "      <td>0.0</td>\n",
       "    </tr>\n",
       "    <tr>\n",
       "      <th>4488</th>\n",
       "      <td>0.0</td>\n",
       "      <td>0.0</td>\n",
       "      <td>0.0</td>\n",
       "      <td>0.0</td>\n",
       "      <td>0.0</td>\n",
       "      <td>0.0</td>\n",
       "      <td>0.0</td>\n",
       "      <td>0.0</td>\n",
       "      <td>0.0</td>\n",
       "      <td>0.0</td>\n",
       "      <td>...</td>\n",
       "      <td>0.0</td>\n",
       "      <td>0.0</td>\n",
       "      <td>0.0</td>\n",
       "      <td>0.0</td>\n",
       "      <td>0.0</td>\n",
       "      <td>0.0</td>\n",
       "      <td>0.0</td>\n",
       "      <td>0.0</td>\n",
       "      <td>0.0</td>\n",
       "      <td>0.0</td>\n",
       "    </tr>\n",
       "    <tr>\n",
       "      <th>4489</th>\n",
       "      <td>0.0</td>\n",
       "      <td>0.0</td>\n",
       "      <td>0.0</td>\n",
       "      <td>0.0</td>\n",
       "      <td>0.0</td>\n",
       "      <td>0.0</td>\n",
       "      <td>0.0</td>\n",
       "      <td>0.0</td>\n",
       "      <td>0.0</td>\n",
       "      <td>0.0</td>\n",
       "      <td>...</td>\n",
       "      <td>0.0</td>\n",
       "      <td>0.0</td>\n",
       "      <td>0.0</td>\n",
       "      <td>0.0</td>\n",
       "      <td>0.0</td>\n",
       "      <td>0.0</td>\n",
       "      <td>0.0</td>\n",
       "      <td>0.0</td>\n",
       "      <td>0.0</td>\n",
       "      <td>0.0</td>\n",
       "    </tr>\n",
       "    <tr>\n",
       "      <th>4490</th>\n",
       "      <td>0.0</td>\n",
       "      <td>0.0</td>\n",
       "      <td>0.0</td>\n",
       "      <td>0.0</td>\n",
       "      <td>0.0</td>\n",
       "      <td>0.0</td>\n",
       "      <td>0.0</td>\n",
       "      <td>0.0</td>\n",
       "      <td>0.0</td>\n",
       "      <td>0.0</td>\n",
       "      <td>...</td>\n",
       "      <td>0.0</td>\n",
       "      <td>0.0</td>\n",
       "      <td>0.0</td>\n",
       "      <td>0.0</td>\n",
       "      <td>0.0</td>\n",
       "      <td>0.0</td>\n",
       "      <td>0.0</td>\n",
       "      <td>0.0</td>\n",
       "      <td>0.0</td>\n",
       "      <td>0.0</td>\n",
       "    </tr>\n",
       "  </tbody>\n",
       "</table>\n",
       "<p>5 rows × 335 columns</p>\n",
       "</div>"
      ],
      "text/plain": [
       "Item Name  Achar Chicken  Achar Lamb  Aloo Brinjal  Aloo Chaat  Aloo Dupiaza  \\\n",
       "Order ID                                                                       \n",
       "2096                 0.0         0.0           0.0         0.0           0.0   \n",
       "4487                 0.0         0.0           0.0         0.0           0.0   \n",
       "4488                 0.0         0.0           0.0         0.0           0.0   \n",
       "4489                 0.0         0.0           0.0         0.0           0.0   \n",
       "4490                 0.0         0.0           0.0         0.0           0.0   \n",
       "\n",
       "Item Name  Aloo Gobi  Aloo Mithy  Aloo Peas  Bangon Hari Mirch  Bhindi Bhajee  \\\n",
       "Order ID                                                                        \n",
       "2096             1.0         0.0        0.0                0.0            0.0   \n",
       "4487             0.0         0.0        0.0                0.0            0.0   \n",
       "4488             0.0         0.0        0.0                0.0            0.0   \n",
       "4489             0.0         0.0        0.0                0.0            0.0   \n",
       "4490             0.0         0.0        0.0                0.0            0.0   \n",
       "\n",
       "Item Name  ...  Vindaloo - Chicken Tikka  Vindaloo - King Prawn  \\\n",
       "Order ID   ...                                                    \n",
       "2096       ...                       0.0                    0.0   \n",
       "4487       ...                       0.0                    0.0   \n",
       "4488       ...                       0.0                    0.0   \n",
       "4489       ...                       0.0                    0.0   \n",
       "4490       ...                       0.0                    0.0   \n",
       "\n",
       "Item Name  Vindaloo - Lamb  Vindaloo - Prawn  Vindaloo - chicken  \\\n",
       "Order ID                                                           \n",
       "2096                   0.0               0.0                 0.0   \n",
       "4487                   0.0               0.0                 0.0   \n",
       "4488                   0.0               0.0                 0.0   \n",
       "4489                   0.0               0.0                 0.0   \n",
       "4490                   0.0               0.0                 0.0   \n",
       "\n",
       "Item Name  Vindaloo - chicken-tikka  Vindaloo - king-prawn  Vindaloo - lamb  \\\n",
       "Order ID                                                                      \n",
       "2096                            0.0                    0.0              0.0   \n",
       "4487                            0.0                    0.0              0.0   \n",
       "4488                            0.0                    0.0              0.0   \n",
       "4489                            0.0                    0.0              0.0   \n",
       "4490                            0.0                    0.0              0.0   \n",
       "\n",
       "Item Name  Vindaloo - prawn  Vindaloo Sauce  \n",
       "Order ID                                     \n",
       "2096                    0.0             0.0  \n",
       "4487                    0.0             0.0  \n",
       "4488                    0.0             0.0  \n",
       "4489                    0.0             0.0  \n",
       "4490                    0.0             0.0  \n",
       "\n",
       "[5 rows x 335 columns]"
      ]
     },
     "execution_count": 13,
     "metadata": {},
     "output_type": "execute_result"
    }
   ],
   "source": [
    "basket = (\n",
    "    # group data (item name should be grouped in order to unstack later)\n",
    "    df.groupby(['Order ID', 'Item Name'\n",
    "    ])['Quantity'].sum()  # Agregate quantity data just to apply unstack, the value doesnt change\n",
    "    .unstack().reset_index()  # Transform to 1 transaction per row\n",
    "    .fillna(0)  # fill the products that its not in the order with 0\n",
    "    .set_index('Order ID')  # set the order number as index\n",
    ")\n",
    "\n",
    "print(\"One order per row with the quantity of each product\")\n",
    "basket.head()"
   ]
  },
  {
   "cell_type": "code",
   "execution_count": 15,
   "metadata": {},
   "outputs": [
    {
     "name": "stdout",
     "output_type": "stream",
     "text": [
      "Converted quantity to boolean values\n"
     ]
    },
    {
     "data": {
      "text/html": [
       "<div>\n",
       "<style scoped>\n",
       "    .dataframe tbody tr th:only-of-type {\n",
       "        vertical-align: middle;\n",
       "    }\n",
       "\n",
       "    .dataframe tbody tr th {\n",
       "        vertical-align: top;\n",
       "    }\n",
       "\n",
       "    .dataframe thead th {\n",
       "        text-align: right;\n",
       "    }\n",
       "</style>\n",
       "<table border=\"1\" class=\"dataframe\">\n",
       "  <thead>\n",
       "    <tr style=\"text-align: right;\">\n",
       "      <th>Item Name</th>\n",
       "      <th>Achar Chicken</th>\n",
       "      <th>Achar Lamb</th>\n",
       "      <th>Aloo Brinjal</th>\n",
       "      <th>Aloo Chaat</th>\n",
       "      <th>Aloo Dupiaza</th>\n",
       "      <th>Aloo Gobi</th>\n",
       "      <th>Aloo Mithy</th>\n",
       "      <th>Aloo Peas</th>\n",
       "      <th>Bangon Hari Mirch</th>\n",
       "      <th>Bhindi Bhajee</th>\n",
       "      <th>...</th>\n",
       "      <th>Vindaloo - Chicken Tikka</th>\n",
       "      <th>Vindaloo - King Prawn</th>\n",
       "      <th>Vindaloo - Lamb</th>\n",
       "      <th>Vindaloo - Prawn</th>\n",
       "      <th>Vindaloo - chicken</th>\n",
       "      <th>Vindaloo - chicken-tikka</th>\n",
       "      <th>Vindaloo - king-prawn</th>\n",
       "      <th>Vindaloo - lamb</th>\n",
       "      <th>Vindaloo - prawn</th>\n",
       "      <th>Vindaloo Sauce</th>\n",
       "    </tr>\n",
       "    <tr>\n",
       "      <th>Order ID</th>\n",
       "      <th></th>\n",
       "      <th></th>\n",
       "      <th></th>\n",
       "      <th></th>\n",
       "      <th></th>\n",
       "      <th></th>\n",
       "      <th></th>\n",
       "      <th></th>\n",
       "      <th></th>\n",
       "      <th></th>\n",
       "      <th></th>\n",
       "      <th></th>\n",
       "      <th></th>\n",
       "      <th></th>\n",
       "      <th></th>\n",
       "      <th></th>\n",
       "      <th></th>\n",
       "      <th></th>\n",
       "      <th></th>\n",
       "      <th></th>\n",
       "      <th></th>\n",
       "    </tr>\n",
       "  </thead>\n",
       "  <tbody>\n",
       "    <tr>\n",
       "      <th>2096</th>\n",
       "      <td>0</td>\n",
       "      <td>0</td>\n",
       "      <td>0</td>\n",
       "      <td>0</td>\n",
       "      <td>0</td>\n",
       "      <td>1</td>\n",
       "      <td>0</td>\n",
       "      <td>0</td>\n",
       "      <td>0</td>\n",
       "      <td>0</td>\n",
       "      <td>...</td>\n",
       "      <td>0</td>\n",
       "      <td>0</td>\n",
       "      <td>0</td>\n",
       "      <td>0</td>\n",
       "      <td>0</td>\n",
       "      <td>0</td>\n",
       "      <td>0</td>\n",
       "      <td>0</td>\n",
       "      <td>0</td>\n",
       "      <td>0</td>\n",
       "    </tr>\n",
       "    <tr>\n",
       "      <th>4487</th>\n",
       "      <td>0</td>\n",
       "      <td>0</td>\n",
       "      <td>0</td>\n",
       "      <td>0</td>\n",
       "      <td>0</td>\n",
       "      <td>0</td>\n",
       "      <td>0</td>\n",
       "      <td>0</td>\n",
       "      <td>0</td>\n",
       "      <td>0</td>\n",
       "      <td>...</td>\n",
       "      <td>0</td>\n",
       "      <td>0</td>\n",
       "      <td>0</td>\n",
       "      <td>0</td>\n",
       "      <td>0</td>\n",
       "      <td>0</td>\n",
       "      <td>0</td>\n",
       "      <td>0</td>\n",
       "      <td>0</td>\n",
       "      <td>0</td>\n",
       "    </tr>\n",
       "    <tr>\n",
       "      <th>4488</th>\n",
       "      <td>0</td>\n",
       "      <td>0</td>\n",
       "      <td>0</td>\n",
       "      <td>0</td>\n",
       "      <td>0</td>\n",
       "      <td>0</td>\n",
       "      <td>0</td>\n",
       "      <td>0</td>\n",
       "      <td>0</td>\n",
       "      <td>0</td>\n",
       "      <td>...</td>\n",
       "      <td>0</td>\n",
       "      <td>0</td>\n",
       "      <td>0</td>\n",
       "      <td>0</td>\n",
       "      <td>0</td>\n",
       "      <td>0</td>\n",
       "      <td>0</td>\n",
       "      <td>0</td>\n",
       "      <td>0</td>\n",
       "      <td>0</td>\n",
       "    </tr>\n",
       "    <tr>\n",
       "      <th>4489</th>\n",
       "      <td>0</td>\n",
       "      <td>0</td>\n",
       "      <td>0</td>\n",
       "      <td>0</td>\n",
       "      <td>0</td>\n",
       "      <td>0</td>\n",
       "      <td>0</td>\n",
       "      <td>0</td>\n",
       "      <td>0</td>\n",
       "      <td>0</td>\n",
       "      <td>...</td>\n",
       "      <td>0</td>\n",
       "      <td>0</td>\n",
       "      <td>0</td>\n",
       "      <td>0</td>\n",
       "      <td>0</td>\n",
       "      <td>0</td>\n",
       "      <td>0</td>\n",
       "      <td>0</td>\n",
       "      <td>0</td>\n",
       "      <td>0</td>\n",
       "    </tr>\n",
       "    <tr>\n",
       "      <th>4490</th>\n",
       "      <td>0</td>\n",
       "      <td>0</td>\n",
       "      <td>0</td>\n",
       "      <td>0</td>\n",
       "      <td>0</td>\n",
       "      <td>0</td>\n",
       "      <td>0</td>\n",
       "      <td>0</td>\n",
       "      <td>0</td>\n",
       "      <td>0</td>\n",
       "      <td>...</td>\n",
       "      <td>0</td>\n",
       "      <td>0</td>\n",
       "      <td>0</td>\n",
       "      <td>0</td>\n",
       "      <td>0</td>\n",
       "      <td>0</td>\n",
       "      <td>0</td>\n",
       "      <td>0</td>\n",
       "      <td>0</td>\n",
       "      <td>0</td>\n",
       "    </tr>\n",
       "  </tbody>\n",
       "</table>\n",
       "<p>5 rows × 335 columns</p>\n",
       "</div>"
      ],
      "text/plain": [
       "Item Name  Achar Chicken  Achar Lamb  Aloo Brinjal  Aloo Chaat  Aloo Dupiaza  \\\n",
       "Order ID                                                                       \n",
       "2096                   0           0             0           0             0   \n",
       "4487                   0           0             0           0             0   \n",
       "4488                   0           0             0           0             0   \n",
       "4489                   0           0             0           0             0   \n",
       "4490                   0           0             0           0             0   \n",
       "\n",
       "Item Name  Aloo Gobi  Aloo Mithy  Aloo Peas  Bangon Hari Mirch  Bhindi Bhajee  \\\n",
       "Order ID                                                                        \n",
       "2096               1           0          0                  0              0   \n",
       "4487               0           0          0                  0              0   \n",
       "4488               0           0          0                  0              0   \n",
       "4489               0           0          0                  0              0   \n",
       "4490               0           0          0                  0              0   \n",
       "\n",
       "Item Name  ...  Vindaloo - Chicken Tikka  Vindaloo - King Prawn  \\\n",
       "Order ID   ...                                                    \n",
       "2096       ...                         0                      0   \n",
       "4487       ...                         0                      0   \n",
       "4488       ...                         0                      0   \n",
       "4489       ...                         0                      0   \n",
       "4490       ...                         0                      0   \n",
       "\n",
       "Item Name  Vindaloo - Lamb  Vindaloo - Prawn  Vindaloo - chicken  \\\n",
       "Order ID                                                           \n",
       "2096                     0                 0                   0   \n",
       "4487                     0                 0                   0   \n",
       "4488                     0                 0                   0   \n",
       "4489                     0                 0                   0   \n",
       "4490                     0                 0                   0   \n",
       "\n",
       "Item Name  Vindaloo - chicken-tikka  Vindaloo - king-prawn  Vindaloo - lamb  \\\n",
       "Order ID                                                                      \n",
       "2096                              0                      0                0   \n",
       "4487                              0                      0                0   \n",
       "4488                              0                      0                0   \n",
       "4489                              0                      0                0   \n",
       "4490                              0                      0                0   \n",
       "\n",
       "Item Name  Vindaloo - prawn  Vindaloo Sauce  \n",
       "Order ID                                     \n",
       "2096                      0               0  \n",
       "4487                      0               0  \n",
       "4488                      0               0  \n",
       "4489                      0               0  \n",
       "4490                      0               0  \n",
       "\n",
       "[5 rows x 335 columns]"
      ]
     },
     "execution_count": 15,
     "metadata": {},
     "output_type": "execute_result"
    }
   ],
   "source": [
    "basket = basket.applymap(lambda quantity: 1 if int(quantity) >= 1 else 0) #changing to 0 and 1 format\n",
    " \n",
    "print(\"Converted quantity to boolean values\")\n",
    "basket.head()"
   ]
  },
  {
   "cell_type": "markdown",
   "metadata": {},
   "source": [
    "# 1.APRIORI :"
   ]
  },
  {
   "cell_type": "markdown",
   "metadata": {},
   "source": [
    "Apriori is an algorithm for frequent item set mining and association rule learning over relational databases. It proceeds by identifying the frequent individual items in the database and extending them to larger and larger item sets as long as those item sets appear sufficiently often in the database. <br>"
   ]
  },
  {
   "cell_type": "code",
   "execution_count": 16,
   "metadata": {},
   "outputs": [],
   "source": [
    "from mlxtend.frequent_patterns import apriori, association_rules"
   ]
  },
  {
   "cell_type": "code",
   "execution_count": 19,
   "metadata": {},
   "outputs": [],
   "source": [
    "import time\n",
    "l=[0.01,0.02,0.03,0.04]\n",
    "t=[]\n",
    "for i in l:\n",
    "    t1=time.time()\n",
    "    apriori(basket,min_support=i,use_colnames=True)\n",
    "    t2=time.time()\n",
    "    t.append((t2-t1)*1000)"
   ]
  },
  {
   "cell_type": "code",
   "execution_count": 20,
   "metadata": {},
   "outputs": [
    {
     "data": {
      "text/plain": [
       "Text(0, 0.5, 'Run Time in ms')"
      ]
     },
     "execution_count": 20,
     "metadata": {},
     "output_type": "execute_result"
    },
    {
     "data": {
      "image/png": "[encoded data removed]",
      "text/plain": [
       "<Figure size 432x288 with 1 Axes>"
      ]
     },
     "metadata": {
      "needs_background": "light"
     },
     "output_type": "display_data"
    }
   ],
   "source": [
    "sns.lineplot(x=l,y=t,label=\"apriori\")\n",
    "plt.xlabel(\"Min_support Threshold\")\n",
    "plt.ylabel(\"Run Time in ms\")"
   ]
  },
  {
   "cell_type": "code",
   "execution_count": null,
   "metadata": {},
   "outputs": [],
   "source": []
  },
  {
   "cell_type": "markdown",
   "metadata": {},
   "source": [
    "# Frequent itemsets:\n",
    "Given the sets of items and a minimum frequency, any set of items that occurs at least in the number of examples is a frequent itemset."
   ]
  },
  {
   "cell_type": "code",
   "execution_count": null,
   "metadata": {},
   "outputs": [],
   "source": [
    "frequent_itemsets = apriori(basket, min_support=0.1, use_colnames=True)\n",
    "\n",
    "print(\"\\nFrequent itemsets using apriori and minimun support equals to %.2f percent\" % (0.1*100))\n",
    "frequent_itemsets.head()"
   ]
  },
  {
   "cell_type": "markdown",
   "metadata": {},
   "source": [
    "# -------------------------------------------PARAMETERS--------------------------------------------"
   ]
  },
  {
   "cell_type": "markdown",
   "metadata": {},
   "source": [
    "# 1.Support:\n",
    "For an association rule X--> Y, the support of the rule is denoted as sup(X-> Y) and is the number of transactions where XUY appears divided by the total number of transactions."
   ]
  },
  {
   "cell_type": "code",
   "execution_count": null,
   "metadata": {},
   "outputs": [],
   "source": [
    "print(frequent_itemsets)"
   ]
  },
  {
   "cell_type": "markdown",
   "metadata": {},
   "source": [
    "# 2.Confidence:\n",
    "Confidence is the number of transactions where XUY appears divided by the number of transactions where X appears."
   ]
  },
  {
   "cell_type": "markdown",
   "metadata": {},
   "source": [
    "# Generating Rules\n",
    "Rules:Rules are if-then statements that help to show the probability of relationships between data items."
   ]
  },
  {
   "cell_type": "code",
   "execution_count": null,
   "metadata": {},
   "outputs": [],
   "source": [
    "rules = association_rules(frequent_itemsets, metric='confidence',min_threshold=0.4)"
   ]
  },
  {
   "cell_type": "code",
   "execution_count": null,
   "metadata": {},
   "outputs": [],
   "source": [
    "rules"
   ]
  },
  {
   "cell_type": "markdown",
   "metadata": {},
   "source": [
    "NOTE:A lift value greater than 1 indicates that the rule body and the rule head appear more often together than expected, this means that the occurrence of the rule body has a positive effect on the occurrence of the rule head."
   ]
  },
  {
   "cell_type": "markdown",
   "metadata": {},
   "source": [
    "# 2.ECLAT"
   ]
  },
  {
   "cell_type": "markdown",
   "metadata": {},
   "source": [
    "### Eclat is also used for data mining, It calculate the pairs that have been bought more frequently comparing to other pairs. At the end, we expect to see what is the most common combination of products"
   ]
  },
  {
   "cell_type": "code",
   "execution_count": null,
   "metadata": {},
   "outputs": [],
   "source": [
    "item=frequent_itemsets['itemsets']"
   ]
  },
  {
   "cell_type": "code",
   "execution_count": null,
   "metadata": {},
   "outputs": [],
   "source": [
    "len(frequent_itemsets)"
   ]
  },
  {
   "cell_type": "code",
   "execution_count": null,
   "metadata": {},
   "outputs": [],
   "source": [
    "# Putting all transactions in a single list\n",
    "items = []\n",
    "for i in range(0,15):\n",
    "    items.extend(item[i])\n",
    "uniqueItems = list(set(items))"
   ]
  },
  {
   "cell_type": "code",
   "execution_count": null,
   "metadata": {},
   "outputs": [],
   "source": [
    "uniqueItems"
   ]
  },
  {
   "cell_type": "markdown",
   "metadata": {},
   "source": [
    "# PAIR OF ITEMS TOGETHER"
   ]
  },
  {
   "cell_type": "code",
   "execution_count": null,
   "metadata": {},
   "outputs": [],
   "source": [
    "pair = []\n",
    "for j in range(0, len(uniqueItems)):\n",
    "    k = 1;\n",
    "    while k <= len(uniqueItems):\n",
    "        try:\n",
    "            pair.append([uniqueItems[j], uniqueItems[j+k]])\n",
    "        except IndexError:\n",
    "            pass\n",
    "        k = k + 1;       "
   ]
  },
  {
   "cell_type": "code",
   "execution_count": null,
   "metadata": {},
   "outputs": [],
   "source": [
    "pair"
   ]
  },
  {
   "cell_type": "markdown",
   "metadata": {},
   "source": [
    "# Score"
   ]
  },
  {
   "cell_type": "markdown",
   "metadata": {},
   "source": [
    "$ score = \\frac{\\text{number of lists that contain [item x and item y]}} {\\text{number of all lists}} $"
   ]
  },
  {
   "cell_type": "code",
   "execution_count": null,
   "metadata": {},
   "outputs": [],
   "source": [
    "%%time\n",
    "score = []\n",
    "for i in pair:\n",
    "    cond = []\n",
    "    for item in i:\n",
    "        cond.append('(\"%s\") in s' %item)\n",
    "    mycode = ('[s for s in items if ' + ' and '.join(cond) + ']')\n",
    "    score.append(len(eval(mycode))/15.)"
   ]
  },
  {
   "cell_type": "code",
   "execution_count": null,
   "metadata": {},
   "outputs": [],
   "source": [
    "ranking_ECLAT = pd.DataFrame([pair, score]).transpose()\n",
    "ranking_ECLAT.columns = ['Pair', 'Score']"
   ]
  },
  {
   "cell_type": "code",
   "execution_count": null,
   "metadata": {},
   "outputs": [],
   "source": [
    "ranking_ECLAT.sort_values('Score', ascending=False).head()"
   ]
  },
  {
   "cell_type": "markdown",
   "metadata": {},
   "source": [
    "### BEST PAIR OF RULES GENERATED"
   ]
  },
  {
   "cell_type": "code",
   "execution_count": null,
   "metadata": {},
   "outputs": [],
   "source": [
    "ranking_ECLAT[ranking_ECLAT['Score']>0]"
   ]
  },
  {
   "cell_type": "markdown",
   "metadata": {},
   "source": [
    "# 3 ITEMS TOGETHER"
   ]
  },
  {
   "cell_type": "code",
   "execution_count": null,
   "metadata": {},
   "outputs": [],
   "source": [
    "# Creating trios\n",
    "trio = []\n",
    "for j in range(0, len(uniqueItems)):\n",
    "    for k in range(j, len(uniqueItems)):\n",
    "        for l in range(k, len(uniqueItems)):\n",
    "            if (k != j) and (j != l) and (k != l):\n",
    "                try:\n",
    "                    trio.append([uniqueItems[j], uniqueItems[j+k], uniqueItems[j+l]])\n",
    "                except IndexError:\n",
    "                    pass "
   ]
  },
  {
   "cell_type": "code",
   "execution_count": null,
   "metadata": {},
   "outputs": [],
   "source": [
    "trio[:5]"
   ]
  },
  {
   "cell_type": "code",
   "execution_count": null,
   "metadata": {},
   "outputs": [],
   "source": [
    "%%time\n",
    "score_t = []\n",
    "for i in trio:\n",
    "    cond = []\n",
    "    for item in i:\n",
    "        cond.append('(\"%s\") in s' %item)\n",
    "    mycode = ('[s for s in items if ' + ' and '.join(cond) + ']')\n",
    "    #mycode = \"print 'hello world'\"\n",
    "    score_t.append(len(eval(mycode))/15.)"
   ]
  },
  {
   "cell_type": "code",
   "execution_count": null,
   "metadata": {},
   "outputs": [],
   "source": [
    "ranking_ECLAT_trio = pd.DataFrame([trio, score_t]).transpose()\n",
    "ranking_ECLAT_trio.columns = ['Trio', 'Score']\n",
    "ranking_ECLAT_trio.sort_values('Score', ascending=False).head(10)"
   ]
  },
  {
   "cell_type": "markdown",
   "metadata": {},
   "source": [
    "In the three itemsets together,it is observed that score obtained is 0 , which can be concluded from the fact that my dataset does not have 3 items occuring together in an order"
   ]
  },
  {
   "cell_type": "markdown",
   "metadata": {},
   "source": [
    "# RECOMMENDATIONS"
   ]
  },
  {
   "cell_type": "markdown",
   "metadata": {},
   "source": [
    "Using the algorithm,the food restaurant can use the output rules to increase their revenue by making a combo offer to increase their profit.Certain combos might make the customer interested to buy 2 food items rather than a single food item."
   ]
  },
  {
   "cell_type": "markdown",
   "metadata": {},
   "source": [
    "# BETTER ALGORITHM FOR MY DATASET"
   ]
  },
  {
   "cell_type": "markdown",
   "metadata": {},
   "source": [
    "Apriori algorithm is used for large datasets and eclat is used for small and medium dataset.Since my dataset contains 1,00,000 rows ,apriori works more efficiently,but is a little slower than Eclat."
   ]
  },
  {
   "cell_type": "markdown",
   "metadata": {},
   "source": [
    "# THANK YOU!"
   ]
  }
 ],
 "metadata": {
  "kernelspec": {
   "display_name": "Python 3",
   "language": "python",
   "name": "python3"
  },
  "language_info": {
   "codemirror_mode": {
    "name": "ipython",
    "version": 3
   },
   "file_extension": ".py",
   "mimetype": "text/x-python",
   "name": "python",
   "nbconvert_exporter": "python",
   "pygments_lexer": "ipython3",
   "version": "3.7.7"
  }
 },
 "nbformat": 4,
 "nbformat_minor": 4
}
